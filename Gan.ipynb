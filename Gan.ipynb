{
  "nbformat": 4,
  "nbformat_minor": 0,
  "metadata": {
    "colab": {
      "name": "Gan.ipynb",
      "provenance": [],
      "collapsed_sections": [],
      "authorship_tag": "ABX9TyMljXK6orxyF7qHZEKUccCG",
      "include_colab_link": true
    },
    "kernelspec": {
      "name": "python3",
      "display_name": "Python 3"
    },
    "accelerator": "GPU"
  },
  "cells": [
    {
      "cell_type": "markdown",
      "metadata": {
        "id": "view-in-github",
        "colab_type": "text"
      },
      "source": [
        "<a href=\"https://colab.research.google.com/github/borundev/pytorch_examples/blob/master/Gan.ipynb\" target=\"_parent\"><img src=\"https://colab.research.google.com/assets/colab-badge.svg\" alt=\"Open In Colab\"/></a>"
      ]
    },
    {
      "cell_type": "code",
      "metadata": {
        "id": "lMOHFd9-PnyR"
      },
      "source": [
        "pip install -Uqq git+https://github.com/borundev/pytorch_examples.git"
      ],
      "execution_count": null,
      "outputs": []
    },
    {
      "cell_type": "code",
      "metadata": {
        "id": "WqTq8XWokOnT"
      },
      "source": [
        "import pytorch_lightning as pl\n",
        "from pl_bolts.datamodules.cifar10_datamodule import CIFAR10DataModule\n",
        "from torch import nn\n",
        "import torch\n",
        "from pytorch_lightning.loggers import WandbLogger\n",
        "import numpy as np\n",
        "import torchvision.utils as vutils\n",
        "import wandb\n",
        "import torchvision\n",
        "import psutil\n",
        "import os\n",
        "import torch.nn.functional as F\n",
        "from sklearn.metrics import precision_recall_curve, roc_curve\n",
        "import matplotlib.pyplot as plt"
      ],
      "execution_count": null,
      "outputs": []
    },
    {
      "cell_type": "code",
      "metadata": {
        "id": "eK5R-XsfP-94"
      },
      "source": [
        "from pytorch_examples.gan.models.generator.generator_dcgan import GeneratorDCGAN\n",
        "from pytorch_examples.gan.models.discriminator.discriminator_dcgan import DiscriminatorDCGAN\n",
        "from pytorch_examples.gan.models.gan import GAN"
      ],
      "execution_count": null,
      "outputs": []
    },
    {
      "cell_type": "code",
      "metadata": {
        "id": "5yeJl_yn40ZS"
      },
      "source": [
        "Generator=GeneratorDCGAN\n",
        "Discriminator=DiscriminatorDCGAN\n",
        "DataModule=CIFAR10DataModule"
      ],
      "execution_count": null,
      "outputs": []
    },
    {
      "cell_type": "code",
      "metadata": {
        "id": "izOiZJCP42u9"
      },
      "source": [
        "torch.cuda.is_available()"
      ],
      "execution_count": null,
      "outputs": []
    },
    {
      "cell_type": "code",
      "metadata": {
        "id": "OYF32fLi46uM"
      },
      "source": [
        "dm = DataModule('.')\n",
        "latent_dim=100\n",
        "img_shape=dm.size()\n"
      ],
      "execution_count": null,
      "outputs": []
    },
    {
      "cell_type": "code",
      "metadata": {
        "id": "LZaVkiU7MGak"
      },
      "source": [
        "logger = WandbLogger(project='gan_cifar',name='colab-gpu')\n",
        "\n",
        "generator=Generator(latent_dim=latent_dim, img_shape=img_shape)\n",
        "discriminator=Discriminator(img_shape=img_shape)\n",
        "\n",
        "model = GAN(*dm.size(),latent_dim=latent_dim, generator=generator, discriminator=discriminator)"
      ],
      "execution_count": null,
      "outputs": []
    },
    {
      "cell_type": "code",
      "metadata": {
        "id": "_qc_r7ZK5A9U"
      },
      "source": [
        "\n",
        "dm.prepare_data()\n",
        "dm.setup()\n",
        "dataloader =dm.train_dataloader()\n",
        "real_batch = next(iter(dataloader))\n",
        "\n",
        "gpus=1\n",
        "device = 'cuda:0'\n",
        "\n",
        "\n",
        "real_images=np.transpose(vutils.make_grid(real_batch[0][:6], padding=2, normalize=True).detach().numpy(),(1,2,0))\n",
        "logger.experiment.log({'real_sample':[wandb.Image(real_images, caption='Real Images')]})"
      ],
      "execution_count": null,
      "outputs": []
    },
    {
      "cell_type": "code",
      "metadata": {
        "id": "EYVKgl2293nC"
      },
      "source": [
        "trainer = pl.Trainer(gpus=gpus,\n",
        "                     max_epochs=50,\n",
        "                     logger=logger,\n",
        "                     progress_bar_refresh_rate=50\n",
        "                     )"
      ],
      "execution_count": null,
      "outputs": []
    },
    {
      "cell_type": "code",
      "metadata": {
        "id": "0veooVk1GgQ-"
      },
      "source": [
        "trainer.fit(model, dm)"
      ],
      "execution_count": null,
      "outputs": []
    },
    {
      "cell_type": "code",
      "metadata": {
        "id": "Netsd3ZpJ2DG"
      },
      "source": [
        "wandb.finish()"
      ],
      "execution_count": null,
      "outputs": []
    },
    {
      "cell_type": "code",
      "metadata": {
        "id": "jBtHpUcDaufb"
      },
      "source": [
        ""
      ],
      "execution_count": null,
      "outputs": []
    }
  ]
}