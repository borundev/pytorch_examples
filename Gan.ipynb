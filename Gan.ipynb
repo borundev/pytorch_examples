{
  "nbformat": 4,
  "nbformat_minor": 0,
  "metadata": {
    "colab": {
      "name": "Gan.ipynb",
      "provenance": [],
      "collapsed_sections": [],
      "authorship_tag": "ABX9TyORMYHvAd9jyFsrXs65XZYI",
      "include_colab_link": true
    },
    "kernelspec": {
      "name": "python3",
      "display_name": "Python 3"
    },
    "accelerator": "GPU",
    "widgets": {
      "application/vnd.jupyter.widget-state+json": {
        "7e45248ab25b4ee7b1a500abb45acb23": {
          "model_module": "@jupyter-widgets/controls",
          "model_name": "HBoxModel",
          "state": {
            "_view_name": "HBoxView",
            "_dom_classes": [],
            "_model_name": "HBoxModel",
            "_view_module": "@jupyter-widgets/controls",
            "_model_module_version": "1.5.0",
            "_view_count": null,
            "_view_module_version": "1.5.0",
            "box_style": "",
            "layout": "IPY_MODEL_e6842b2c30bc475ebf1825564d9a5175",
            "_model_module": "@jupyter-widgets/controls",
            "children": [
              "IPY_MODEL_32aa722260c4469aade6862d9242539c",
              "IPY_MODEL_8f92bf8b1fea4c0381c4332b37219690"
            ]
          }
        },
        "e6842b2c30bc475ebf1825564d9a5175": {
          "model_module": "@jupyter-widgets/base",
          "model_name": "LayoutModel",
          "state": {
            "_view_name": "LayoutView",
            "grid_template_rows": null,
            "right": null,
            "justify_content": null,
            "_view_module": "@jupyter-widgets/base",
            "overflow": null,
            "_model_module_version": "1.2.0",
            "_view_count": null,
            "flex_flow": "row wrap",
            "width": "100%",
            "min_width": null,
            "border": null,
            "align_items": null,
            "bottom": null,
            "_model_module": "@jupyter-widgets/base",
            "top": null,
            "grid_column": null,
            "overflow_y": null,
            "overflow_x": null,
            "grid_auto_flow": null,
            "grid_area": null,
            "grid_template_columns": null,
            "flex": null,
            "_model_name": "LayoutModel",
            "justify_items": null,
            "grid_row": null,
            "max_height": null,
            "align_content": null,
            "visibility": null,
            "align_self": null,
            "height": null,
            "min_height": null,
            "padding": null,
            "grid_auto_rows": null,
            "grid_gap": null,
            "max_width": null,
            "order": null,
            "_view_module_version": "1.2.0",
            "grid_template_areas": null,
            "object_position": null,
            "object_fit": null,
            "grid_auto_columns": null,
            "margin": null,
            "display": "inline-flex",
            "left": null
          }
        },
        "32aa722260c4469aade6862d9242539c": {
          "model_module": "@jupyter-widgets/controls",
          "model_name": "FloatProgressModel",
          "state": {
            "_view_name": "ProgressView",
            "style": "IPY_MODEL_a5b7455d060e4fbda04c08597d04befc",
            "_dom_classes": [],
            "description": "Epoch 2: 100%",
            "_model_name": "FloatProgressModel",
            "bar_style": "success",
            "max": 1406,
            "_view_module": "@jupyter-widgets/controls",
            "_model_module_version": "1.5.0",
            "value": 1406,
            "_view_count": null,
            "_view_module_version": "1.5.0",
            "orientation": "horizontal",
            "min": 0,
            "description_tooltip": null,
            "_model_module": "@jupyter-widgets/controls",
            "layout": "IPY_MODEL_a7827ac72a28437d86eaaec295deb43d"
          }
        },
        "8f92bf8b1fea4c0381c4332b37219690": {
          "model_module": "@jupyter-widgets/controls",
          "model_name": "HTMLModel",
          "state": {
            "_view_name": "HTMLView",
            "style": "IPY_MODEL_761d86ea4e5b42bcbafdcb0313ea0ee2",
            "_dom_classes": [],
            "description": "",
            "_model_name": "HTMLModel",
            "placeholder": "​",
            "_view_module": "@jupyter-widgets/controls",
            "_model_module_version": "1.5.0",
            "value": " 1406/1406 [01:31&lt;00:00, 15.33it/s, loss=1.98, v_num=qnu3, generator/g_loss=4.42, generator/g_fooling_fraction=0, discriminator/d_loss=0.0756, discriminator/d_accuracy=1]",
            "_view_count": null,
            "_view_module_version": "1.5.0",
            "description_tooltip": null,
            "_model_module": "@jupyter-widgets/controls",
            "layout": "IPY_MODEL_cdcd15edc437428480c0df2d71c0d27f"
          }
        },
        "a5b7455d060e4fbda04c08597d04befc": {
          "model_module": "@jupyter-widgets/controls",
          "model_name": "ProgressStyleModel",
          "state": {
            "_view_name": "StyleView",
            "_model_name": "ProgressStyleModel",
            "description_width": "initial",
            "_view_module": "@jupyter-widgets/base",
            "_model_module_version": "1.5.0",
            "_view_count": null,
            "_view_module_version": "1.2.0",
            "bar_color": null,
            "_model_module": "@jupyter-widgets/controls"
          }
        },
        "a7827ac72a28437d86eaaec295deb43d": {
          "model_module": "@jupyter-widgets/base",
          "model_name": "LayoutModel",
          "state": {
            "_view_name": "LayoutView",
            "grid_template_rows": null,
            "right": null,
            "justify_content": null,
            "_view_module": "@jupyter-widgets/base",
            "overflow": null,
            "_model_module_version": "1.2.0",
            "_view_count": null,
            "flex_flow": null,
            "width": null,
            "min_width": null,
            "border": null,
            "align_items": null,
            "bottom": null,
            "_model_module": "@jupyter-widgets/base",
            "top": null,
            "grid_column": null,
            "overflow_y": null,
            "overflow_x": null,
            "grid_auto_flow": null,
            "grid_area": null,
            "grid_template_columns": null,
            "flex": "2",
            "_model_name": "LayoutModel",
            "justify_items": null,
            "grid_row": null,
            "max_height": null,
            "align_content": null,
            "visibility": null,
            "align_self": null,
            "height": null,
            "min_height": null,
            "padding": null,
            "grid_auto_rows": null,
            "grid_gap": null,
            "max_width": null,
            "order": null,
            "_view_module_version": "1.2.0",
            "grid_template_areas": null,
            "object_position": null,
            "object_fit": null,
            "grid_auto_columns": null,
            "margin": null,
            "display": null,
            "left": null
          }
        },
        "761d86ea4e5b42bcbafdcb0313ea0ee2": {
          "model_module": "@jupyter-widgets/controls",
          "model_name": "DescriptionStyleModel",
          "state": {
            "_view_name": "StyleView",
            "_model_name": "DescriptionStyleModel",
            "description_width": "",
            "_view_module": "@jupyter-widgets/base",
            "_model_module_version": "1.5.0",
            "_view_count": null,
            "_view_module_version": "1.2.0",
            "_model_module": "@jupyter-widgets/controls"
          }
        },
        "cdcd15edc437428480c0df2d71c0d27f": {
          "model_module": "@jupyter-widgets/base",
          "model_name": "LayoutModel",
          "state": {
            "_view_name": "LayoutView",
            "grid_template_rows": null,
            "right": null,
            "justify_content": null,
            "_view_module": "@jupyter-widgets/base",
            "overflow": null,
            "_model_module_version": "1.2.0",
            "_view_count": null,
            "flex_flow": null,
            "width": null,
            "min_width": null,
            "border": null,
            "align_items": null,
            "bottom": null,
            "_model_module": "@jupyter-widgets/base",
            "top": null,
            "grid_column": null,
            "overflow_y": null,
            "overflow_x": null,
            "grid_auto_flow": null,
            "grid_area": null,
            "grid_template_columns": null,
            "flex": null,
            "_model_name": "LayoutModel",
            "justify_items": null,
            "grid_row": null,
            "max_height": null,
            "align_content": null,
            "visibility": null,
            "align_self": null,
            "height": null,
            "min_height": null,
            "padding": null,
            "grid_auto_rows": null,
            "grid_gap": null,
            "max_width": null,
            "order": null,
            "_view_module_version": "1.2.0",
            "grid_template_areas": null,
            "object_position": null,
            "object_fit": null,
            "grid_auto_columns": null,
            "margin": null,
            "display": null,
            "left": null
          }
        },
        "c4d03cc21b0a42b89ac2faf965251b77": {
          "model_module": "@jupyter-widgets/controls",
          "model_name": "VBoxModel",
          "state": {
            "_view_name": "VBoxView",
            "_dom_classes": [],
            "_model_name": "VBoxModel",
            "_view_module": "@jupyter-widgets/controls",
            "_model_module_version": "1.5.0",
            "_view_count": null,
            "_view_module_version": "1.5.0",
            "box_style": "",
            "layout": "IPY_MODEL_2ce1e58b14904f7d821f37168f691749",
            "_model_module": "@jupyter-widgets/controls",
            "children": [
              "IPY_MODEL_d812cc3b785e4c32939559bf1bad3ac0",
              "IPY_MODEL_df1ddd00f03643ca960e616f77814902"
            ]
          }
        },
        "2ce1e58b14904f7d821f37168f691749": {
          "model_module": "@jupyter-widgets/base",
          "model_name": "LayoutModel",
          "state": {
            "_view_name": "LayoutView",
            "grid_template_rows": null,
            "right": null,
            "justify_content": null,
            "_view_module": "@jupyter-widgets/base",
            "overflow": null,
            "_model_module_version": "1.2.0",
            "_view_count": null,
            "flex_flow": null,
            "width": null,
            "min_width": null,
            "border": null,
            "align_items": null,
            "bottom": null,
            "_model_module": "@jupyter-widgets/base",
            "top": null,
            "grid_column": null,
            "overflow_y": null,
            "overflow_x": null,
            "grid_auto_flow": null,
            "grid_area": null,
            "grid_template_columns": null,
            "flex": null,
            "_model_name": "LayoutModel",
            "justify_items": null,
            "grid_row": null,
            "max_height": null,
            "align_content": null,
            "visibility": null,
            "align_self": null,
            "height": null,
            "min_height": null,
            "padding": null,
            "grid_auto_rows": null,
            "grid_gap": null,
            "max_width": null,
            "order": null,
            "_view_module_version": "1.2.0",
            "grid_template_areas": null,
            "object_position": null,
            "object_fit": null,
            "grid_auto_columns": null,
            "margin": null,
            "display": null,
            "left": null
          }
        },
        "d812cc3b785e4c32939559bf1bad3ac0": {
          "model_module": "@jupyter-widgets/controls",
          "model_name": "LabelModel",
          "state": {
            "_view_name": "LabelView",
            "style": "IPY_MODEL_33c0c6208cdc460b9dde06a50428e48b",
            "_dom_classes": [],
            "description": "",
            "_model_name": "LabelModel",
            "placeholder": "​",
            "_view_module": "@jupyter-widgets/controls",
            "_model_module_version": "1.5.0",
            "value": " 1.21MB of 1.21MB uploaded (0.00MB deduped)\r",
            "_view_count": null,
            "_view_module_version": "1.5.0",
            "description_tooltip": null,
            "_model_module": "@jupyter-widgets/controls",
            "layout": "IPY_MODEL_c6d83388209a43f1b818ec07c13bbb97"
          }
        },
        "df1ddd00f03643ca960e616f77814902": {
          "model_module": "@jupyter-widgets/controls",
          "model_name": "FloatProgressModel",
          "state": {
            "_view_name": "ProgressView",
            "style": "IPY_MODEL_8666c4978ef84f97970fb3da0dd8f694",
            "_dom_classes": [],
            "description": "",
            "_model_name": "FloatProgressModel",
            "bar_style": "",
            "max": 1,
            "_view_module": "@jupyter-widgets/controls",
            "_model_module_version": "1.5.0",
            "value": 1,
            "_view_count": null,
            "_view_module_version": "1.5.0",
            "orientation": "horizontal",
            "min": 0,
            "description_tooltip": null,
            "_model_module": "@jupyter-widgets/controls",
            "layout": "IPY_MODEL_b746a4a0fd7d488fb0148f54db7ce0f8"
          }
        },
        "33c0c6208cdc460b9dde06a50428e48b": {
          "model_module": "@jupyter-widgets/controls",
          "model_name": "DescriptionStyleModel",
          "state": {
            "_view_name": "StyleView",
            "_model_name": "DescriptionStyleModel",
            "description_width": "",
            "_view_module": "@jupyter-widgets/base",
            "_model_module_version": "1.5.0",
            "_view_count": null,
            "_view_module_version": "1.2.0",
            "_model_module": "@jupyter-widgets/controls"
          }
        },
        "c6d83388209a43f1b818ec07c13bbb97": {
          "model_module": "@jupyter-widgets/base",
          "model_name": "LayoutModel",
          "state": {
            "_view_name": "LayoutView",
            "grid_template_rows": null,
            "right": null,
            "justify_content": null,
            "_view_module": "@jupyter-widgets/base",
            "overflow": null,
            "_model_module_version": "1.2.0",
            "_view_count": null,
            "flex_flow": null,
            "width": null,
            "min_width": null,
            "border": null,
            "align_items": null,
            "bottom": null,
            "_model_module": "@jupyter-widgets/base",
            "top": null,
            "grid_column": null,
            "overflow_y": null,
            "overflow_x": null,
            "grid_auto_flow": null,
            "grid_area": null,
            "grid_template_columns": null,
            "flex": null,
            "_model_name": "LayoutModel",
            "justify_items": null,
            "grid_row": null,
            "max_height": null,
            "align_content": null,
            "visibility": null,
            "align_self": null,
            "height": null,
            "min_height": null,
            "padding": null,
            "grid_auto_rows": null,
            "grid_gap": null,
            "max_width": null,
            "order": null,
            "_view_module_version": "1.2.0",
            "grid_template_areas": null,
            "object_position": null,
            "object_fit": null,
            "grid_auto_columns": null,
            "margin": null,
            "display": null,
            "left": null
          }
        },
        "8666c4978ef84f97970fb3da0dd8f694": {
          "model_module": "@jupyter-widgets/controls",
          "model_name": "ProgressStyleModel",
          "state": {
            "_view_name": "StyleView",
            "_model_name": "ProgressStyleModel",
            "description_width": "",
            "_view_module": "@jupyter-widgets/base",
            "_model_module_version": "1.5.0",
            "_view_count": null,
            "_view_module_version": "1.2.0",
            "bar_color": null,
            "_model_module": "@jupyter-widgets/controls"
          }
        },
        "b746a4a0fd7d488fb0148f54db7ce0f8": {
          "model_module": "@jupyter-widgets/base",
          "model_name": "LayoutModel",
          "state": {
            "_view_name": "LayoutView",
            "grid_template_rows": null,
            "right": null,
            "justify_content": null,
            "_view_module": "@jupyter-widgets/base",
            "overflow": null,
            "_model_module_version": "1.2.0",
            "_view_count": null,
            "flex_flow": null,
            "width": null,
            "min_width": null,
            "border": null,
            "align_items": null,
            "bottom": null,
            "_model_module": "@jupyter-widgets/base",
            "top": null,
            "grid_column": null,
            "overflow_y": null,
            "overflow_x": null,
            "grid_auto_flow": null,
            "grid_area": null,
            "grid_template_columns": null,
            "flex": null,
            "_model_name": "LayoutModel",
            "justify_items": null,
            "grid_row": null,
            "max_height": null,
            "align_content": null,
            "visibility": null,
            "align_self": null,
            "height": null,
            "min_height": null,
            "padding": null,
            "grid_auto_rows": null,
            "grid_gap": null,
            "max_width": null,
            "order": null,
            "_view_module_version": "1.2.0",
            "grid_template_areas": null,
            "object_position": null,
            "object_fit": null,
            "grid_auto_columns": null,
            "margin": null,
            "display": null,
            "left": null
          }
        },
        "287897c592c24b25bba03e9f1d8b1b2f": {
          "model_module": "@jupyter-widgets/controls",
          "model_name": "HBoxModel",
          "state": {
            "_view_name": "HBoxView",
            "_dom_classes": [],
            "_model_name": "HBoxModel",
            "_view_module": "@jupyter-widgets/controls",
            "_model_module_version": "1.5.0",
            "_view_count": null,
            "_view_module_version": "1.5.0",
            "box_style": "",
            "layout": "IPY_MODEL_6609fdfd52d34b60876d6cab9fb5b47a",
            "_model_module": "@jupyter-widgets/controls",
            "children": [
              "IPY_MODEL_1bd5a9c8984e4a17980afaeb63541a4a",
              "IPY_MODEL_6422e21b21154bf99837224cb9002fb1"
            ]
          }
        },
        "6609fdfd52d34b60876d6cab9fb5b47a": {
          "model_module": "@jupyter-widgets/base",
          "model_name": "LayoutModel",
          "state": {
            "_view_name": "LayoutView",
            "grid_template_rows": null,
            "right": null,
            "justify_content": null,
            "_view_module": "@jupyter-widgets/base",
            "overflow": null,
            "_model_module_version": "1.2.0",
            "_view_count": null,
            "flex_flow": "row wrap",
            "width": "100%",
            "min_width": null,
            "border": null,
            "align_items": null,
            "bottom": null,
            "_model_module": "@jupyter-widgets/base",
            "top": null,
            "grid_column": null,
            "overflow_y": null,
            "overflow_x": null,
            "grid_auto_flow": null,
            "grid_area": null,
            "grid_template_columns": null,
            "flex": null,
            "_model_name": "LayoutModel",
            "justify_items": null,
            "grid_row": null,
            "max_height": null,
            "align_content": null,
            "visibility": null,
            "align_self": null,
            "height": null,
            "min_height": null,
            "padding": null,
            "grid_auto_rows": null,
            "grid_gap": null,
            "max_width": null,
            "order": null,
            "_view_module_version": "1.2.0",
            "grid_template_areas": null,
            "object_position": null,
            "object_fit": null,
            "grid_auto_columns": null,
            "margin": null,
            "display": "inline-flex",
            "left": null
          }
        },
        "1bd5a9c8984e4a17980afaeb63541a4a": {
          "model_module": "@jupyter-widgets/controls",
          "model_name": "FloatProgressModel",
          "state": {
            "_view_name": "ProgressView",
            "style": "IPY_MODEL_c864069e17c24d6396e1d3df4cec504f",
            "_dom_classes": [],
            "description": "Epoch 0:  82%",
            "_model_name": "FloatProgressModel",
            "bar_style": "info",
            "max": 1406,
            "_view_module": "@jupyter-widgets/controls",
            "_model_module_version": "1.5.0",
            "value": 1155,
            "_view_count": null,
            "_view_module_version": "1.5.0",
            "orientation": "horizontal",
            "min": 0,
            "description_tooltip": null,
            "_model_module": "@jupyter-widgets/controls",
            "layout": "IPY_MODEL_246f28040aae4ef5b86c8fe8f91aab57"
          }
        },
        "6422e21b21154bf99837224cb9002fb1": {
          "model_module": "@jupyter-widgets/controls",
          "model_name": "HTMLModel",
          "state": {
            "_view_name": "HTMLView",
            "style": "IPY_MODEL_eca60e4ebea4425c922d29ead61124dc",
            "_dom_classes": [],
            "description": "",
            "_model_name": "HTMLModel",
            "placeholder": "​",
            "_view_module": "@jupyter-widgets/controls",
            "_model_module_version": "1.5.0",
            "value": " 1154/1406 [28:14&lt;06:10,  1.47s/it, loss=2.03, v_num=thkl, generator/g_loss=2.96, generator/g_fooling_fraction=0, discriminator/d_loss=0.255, discriminator/d_accuracy=0.922]",
            "_view_count": null,
            "_view_module_version": "1.5.0",
            "description_tooltip": null,
            "_model_module": "@jupyter-widgets/controls",
            "layout": "IPY_MODEL_492c81483ddd467eb77b126da378bac2"
          }
        },
        "c864069e17c24d6396e1d3df4cec504f": {
          "model_module": "@jupyter-widgets/controls",
          "model_name": "ProgressStyleModel",
          "state": {
            "_view_name": "StyleView",
            "_model_name": "ProgressStyleModel",
            "description_width": "initial",
            "_view_module": "@jupyter-widgets/base",
            "_model_module_version": "1.5.0",
            "_view_count": null,
            "_view_module_version": "1.2.0",
            "bar_color": null,
            "_model_module": "@jupyter-widgets/controls"
          }
        },
        "246f28040aae4ef5b86c8fe8f91aab57": {
          "model_module": "@jupyter-widgets/base",
          "model_name": "LayoutModel",
          "state": {
            "_view_name": "LayoutView",
            "grid_template_rows": null,
            "right": null,
            "justify_content": null,
            "_view_module": "@jupyter-widgets/base",
            "overflow": null,
            "_model_module_version": "1.2.0",
            "_view_count": null,
            "flex_flow": null,
            "width": null,
            "min_width": null,
            "border": null,
            "align_items": null,
            "bottom": null,
            "_model_module": "@jupyter-widgets/base",
            "top": null,
            "grid_column": null,
            "overflow_y": null,
            "overflow_x": null,
            "grid_auto_flow": null,
            "grid_area": null,
            "grid_template_columns": null,
            "flex": "2",
            "_model_name": "LayoutModel",
            "justify_items": null,
            "grid_row": null,
            "max_height": null,
            "align_content": null,
            "visibility": null,
            "align_self": null,
            "height": null,
            "min_height": null,
            "padding": null,
            "grid_auto_rows": null,
            "grid_gap": null,
            "max_width": null,
            "order": null,
            "_view_module_version": "1.2.0",
            "grid_template_areas": null,
            "object_position": null,
            "object_fit": null,
            "grid_auto_columns": null,
            "margin": null,
            "display": null,
            "left": null
          }
        },
        "eca60e4ebea4425c922d29ead61124dc": {
          "model_module": "@jupyter-widgets/controls",
          "model_name": "DescriptionStyleModel",
          "state": {
            "_view_name": "StyleView",
            "_model_name": "DescriptionStyleModel",
            "description_width": "",
            "_view_module": "@jupyter-widgets/base",
            "_model_module_version": "1.5.0",
            "_view_count": null,
            "_view_module_version": "1.2.0",
            "_model_module": "@jupyter-widgets/controls"
          }
        },
        "492c81483ddd467eb77b126da378bac2": {
          "model_module": "@jupyter-widgets/base",
          "model_name": "LayoutModel",
          "state": {
            "_view_name": "LayoutView",
            "grid_template_rows": null,
            "right": null,
            "justify_content": null,
            "_view_module": "@jupyter-widgets/base",
            "overflow": null,
            "_model_module_version": "1.2.0",
            "_view_count": null,
            "flex_flow": null,
            "width": null,
            "min_width": null,
            "border": null,
            "align_items": null,
            "bottom": null,
            "_model_module": "@jupyter-widgets/base",
            "top": null,
            "grid_column": null,
            "overflow_y": null,
            "overflow_x": null,
            "grid_auto_flow": null,
            "grid_area": null,
            "grid_template_columns": null,
            "flex": null,
            "_model_name": "LayoutModel",
            "justify_items": null,
            "grid_row": null,
            "max_height": null,
            "align_content": null,
            "visibility": null,
            "align_self": null,
            "height": null,
            "min_height": null,
            "padding": null,
            "grid_auto_rows": null,
            "grid_gap": null,
            "max_width": null,
            "order": null,
            "_view_module_version": "1.2.0",
            "grid_template_areas": null,
            "object_position": null,
            "object_fit": null,
            "grid_auto_columns": null,
            "margin": null,
            "display": null,
            "left": null
          }
        }
      }
    }
  },
  "cells": [
    {
      "cell_type": "markdown",
      "metadata": {
        "id": "view-in-github",
        "colab_type": "text"
      },
      "source": [
        "<a href=\"https://colab.research.google.com/github/borundev/pytorch_lightning_examples/blob/decouple_gan_generator_discriminator/Gan.ipynb\" target=\"_parent\"><img src=\"https://colab.research.google.com/assets/colab-badge.svg\" alt=\"Open In Colab\"/></a>"
      ]
    },
    {
      "cell_type": "code",
      "metadata": {
        "id": "IDBqqAmqkJAZ"
      },
      "source": [
        "!pip install -Uqq pytorch_lightning\n",
        "!pip install -Uqq pytorch-lightning-bolts\n",
        "!pip install -Uqq wandb"
      ],
      "execution_count": 1,
      "outputs": []
    },
    {
      "cell_type": "code",
      "metadata": {
        "id": "WqTq8XWokOnT"
      },
      "source": [
        "import pytorch_lightning as pl\n",
        "from pl_bolts.datamodules.cifar10_datamodule import CIFAR10DataModule\n",
        "from torch import nn\n",
        "import torch\n",
        "from pytorch_lightning.loggers import WandbLogger\n",
        "import numpy as np\n",
        "import torchvision.utils as vutils\n",
        "import wandb\n",
        "import torchvision\n",
        "import psutil\n",
        "import os\n",
        "import torch.nn.functional as F\n",
        "from sklearn.metrics import precision_recall_curve\n",
        "import matplotlib.pyplot as plt"
      ],
      "execution_count": 18,
      "outputs": []
    },
    {
      "cell_type": "code",
      "metadata": {
        "id": "CwDfRfxkFbti"
      },
      "source": [
        "class Generator(nn.Module):\n",
        "    def __init__(self, latent_dim, img_shape):\n",
        "        super().__init__()\n",
        "        self.latent_dim=latent_dim\n",
        "        self.img_shape=img_shape\n",
        "\n",
        "    def forward(self, z):\n",
        "        return self.model(z)\n",
        "\n",
        "class Discriminator(nn.Module):\n",
        "    def __init__(self, img_shape):\n",
        "        super().__init__()\n",
        "        self.img_shape=img_shape\n",
        "\n",
        "    def forward(self, img):\n",
        "        return self.model(img)\n",
        "\n",
        "class LambdaModule(nn.Module):\n",
        "    def __init__(self, lambd):\n",
        "        super().__init__()\n",
        "        import types\n",
        "        assert type(lambd) is types.LambdaType\n",
        "        self.lambd = lambd\n",
        "\n",
        "    def forward(self, x):\n",
        "        return self.lambd(x)"
      ],
      "execution_count": 3,
      "outputs": []
    },
    {
      "cell_type": "code",
      "metadata": {
        "id": "GwdRsWeCFoCe"
      },
      "source": [
        "class GeneratorDCGAN(Generator):\n",
        "    def __init__(self, latent_dim, img_shape,ngf=64):\n",
        "        super().__init__(latent_dim, img_shape)\n",
        "        nc=img_shape[0]\n",
        "        self.model = nn.Sequential(\n",
        "            # input is Z, going into a convolution\n",
        "            LambdaModule(lambda x: x.unsqueeze(-1).unsqueeze(-1)),\n",
        "            nn.ConvTranspose2d( latent_dim, ngf * 8, 4, 1, 0, bias=False),\n",
        "            nn.BatchNorm2d(ngf * 8),\n",
        "            nn.ReLU(True),\n",
        "            # state size. (ngf*8) x 4 x 4\n",
        "            nn.ConvTranspose2d(ngf * 8, ngf * 4, 4, 2, 1, bias=False),\n",
        "            nn.BatchNorm2d(ngf * 4),\n",
        "            nn.ReLU(True),\n",
        "            # state size. (ngf*4) x 8 x 8\n",
        "            nn.ConvTranspose2d( ngf * 4, ngf * 2, 4, 2, 1, bias=False),\n",
        "            nn.BatchNorm2d(ngf * 2),\n",
        "            nn.ReLU(True),\n",
        "            # state size. (ngf*2) x 16 x 16\n",
        "            #nn.ConvTranspose2d( ngf * 2, ngf, 4, 2, 1, bias=False),\n",
        "            nn.ConvTranspose2d(ngf*2, nc, 4, 2, 1, bias=False),\n",
        "            #nn.BatchNorm2d(ngf),\n",
        "            #nn.ReLU(True),\n",
        "            # state size. (ngf) x 32 x 32\n",
        "            #nn.ConvTranspose2d( ngf, nc, 4, 2, 1, bias=False),\n",
        "            nn.Tanh()\n",
        "            # state size. (nc) x 64 x 64\n",
        "        )\n",
        "\n",
        "    # custom weights initialization called on netG and netD\n",
        "    @staticmethod\n",
        "    def weights_init(m):\n",
        "        classname = m.__class__.__name__\n",
        "        if classname.find('Conv') != -1:\n",
        "            nn.init.normal_(m.weight.data, 0.0, 0.02)\n",
        "        elif classname.find('BatchNorm') != -1:\n",
        "            nn.init.normal_(m.weight.data, 1.0, 0.02)\n",
        "            nn.init.constant_(m.bias.data, 0)\n"
      ],
      "execution_count": 4,
      "outputs": []
    },
    {
      "cell_type": "code",
      "metadata": {
        "id": "D2KbXA-VFF6z"
      },
      "source": [
        "class DiscriminatorDCGAN(Discriminator):\n",
        "    def __init__(self, img_shape ,ndf = 64,):\n",
        "        super().__init__(img_shape)\n",
        "        nc=img_shape[0]\n",
        "        self.model = nn.Sequential(\n",
        "            # input is (nc) x 64 x 64\n",
        "            #nn.Conv2d(nc, ndf, 4, 2, 1, bias=False),\n",
        "            #nn.LeakyReLU(0.2, inplace=True),\n",
        "            # state size. (ndf) x 32 x 32\n",
        "            #nn.Conv2d(ndf, ndf * 2, 4, 2, 1, bias=False),\n",
        "            nn.Conv2d(nc, ndf * 2, 4, 2, 1, bias=False),\n",
        "            nn.BatchNorm2d(ndf * 2),\n",
        "            nn.LeakyReLU(0.2, inplace=True),\n",
        "            # state size. (ndf*2) x 16 x 16\n",
        "            nn.Conv2d(ndf * 2, ndf * 4, 4, 2, 1, bias=False),\n",
        "            nn.BatchNorm2d(ndf * 4),\n",
        "            nn.LeakyReLU(0.2, inplace=True),\n",
        "            # state size. (ndf*4) x 8 x 8\n",
        "            nn.Conv2d(ndf * 4, ndf * 8, 4, 2, 1, bias=False),\n",
        "            nn.BatchNorm2d(ndf * 8),\n",
        "            nn.LeakyReLU(0.2, inplace=True),\n",
        "            # state size. (ndf*8) x 4 x 4\n",
        "            nn.Conv2d(ndf * 8, 1, 4, 1, 0, bias=False),\n",
        "            nn.Sigmoid(),\n",
        "            nn.Flatten(1)\n",
        "        )\n",
        "        self.apply(self.weights_init)\n",
        "\n",
        "\n",
        "    # custom weights initialization called on netG and netD\n",
        "    @staticmethod\n",
        "    def weights_init(m):\n",
        "        classname = m.__class__.__name__\n",
        "        if classname.find('Conv') != -1:\n",
        "            nn.init.normal_(m.weight.data, 0.0, 0.02)\n",
        "        elif classname.find('BatchNorm') != -1:\n",
        "            nn.init.normal_(m.weight.data, 1.0, 0.02)\n",
        "            nn.init.constant_(m.bias.data, 0)"
      ],
      "execution_count": 5,
      "outputs": []
    },
    {
      "cell_type": "code",
      "metadata": {
        "id": "9eNcv2LrGJJ3"
      },
      "source": [
        "class GAN(pl.LightningModule):\n",
        "\n",
        "    def __init__(\n",
        "            self,\n",
        "            channels,\n",
        "            width,\n",
        "            height,\n",
        "            generator,\n",
        "            discriminator,\n",
        "            latent_dim: int = 100,\n",
        "            lr: float = 0.0002,\n",
        "            b1: float = 0.5,\n",
        "            b2: float = 0.999,\n",
        "            batch_size: int = 64,\n",
        "            **kwargs\n",
        "    ):\n",
        "        super().__init__()\n",
        "        self.save_hyperparameters()\n",
        "\n",
        "        # networks\n",
        "        self.data_shape = (channels, width, height)\n",
        "        self.generator = generator\n",
        "        self.discriminator = discriminator\n",
        "\n",
        "        self.fixed_random_sample = None\n",
        "\n",
        "    def print_summary(self):\n",
        "        print(torchsummary.summary(self.generator, (self.hparams.latent_dim,), 1))\n",
        "        print(torchsummary.summary(self.discriminator, self.data_shape, 1))\n",
        "\n",
        "    def forward(self, z):\n",
        "        return self.generator(z)\n",
        "\n",
        "    def adversarial_loss(self, y_hat, y):\n",
        "        return F.binary_cross_entropy(y_hat, y)\n",
        "\n",
        "    def training_step(self, batch, batch_idx, optimizer_idx):\n",
        "\n",
        "        # if this is the first run make the fixed random vector\n",
        "        if self.fixed_random_sample is None:\n",
        "            imgs, _ = batch\n",
        "            self.fixed_random_sample = torch.randn(6, self.hparams.latent_dim).type_as(imgs)\n",
        "\n",
        "        # log images generatd from fixed random noise status of the fixed random noise generated images\n",
        "        sample_imgs = self(self.fixed_random_sample)\n",
        "        grid = torchvision.utils.make_grid(sample_imgs,padding=2, normalize=True).detach().cpu().numpy().transpose(1, 2, 0)\n",
        "        self.logger.experiment.log(\n",
        "            {'gen_images': [wandb.Image(grid, caption='{}:{}'.format(self.current_epoch, batch_idx))]}, commit=False)\n",
        "\n",
        "        process = psutil.Process(os.getpid())\n",
        "        self.log('memory',process.memory_info().rss/(1024**3))\n",
        "\n",
        "        if optimizer_idx == 0:\n",
        "            return self.training_step_generator(batch, batch_idx)\n",
        "        elif optimizer_idx == 1:\n",
        "            return self.training_step_discriminator(batch, batch_idx)\n",
        "\n",
        "    def training_step_generator(self, batch, batch_idx):\n",
        "\n",
        "        imgs, _ = batch\n",
        "        batch_size = imgs.shape[0]\n",
        "\n",
        "        # note z.type_as(imgs) not only type_casts but also puts on the same device\n",
        "        z = torch.randn(batch_size, self.hparams.latent_dim).type_as(imgs)\n",
        "        generated_imgs = self(z)\n",
        "        generated_y_score = self.discriminator(generated_imgs)\n",
        "        generated_y = torch.ones(imgs.size(0), 1).type_as(imgs)\n",
        "        g_loss = self.adversarial_loss(generated_y_score, generated_y)\n",
        "\n",
        "        fooling_fraction = (generated_y_score > 0.5).type(torch.float).flatten().mean()\n",
        "\n",
        "        self.log('generator/g_loss', g_loss, prog_bar=True)\n",
        "        self.log('generator/g_fooling_fraction', fooling_fraction, prog_bar=True)\n",
        "\n",
        "        return {'loss': g_loss,\n",
        "                'y_score': generated_y_score,\n",
        "                'y': generated_y\n",
        "                }\n",
        "\n",
        "    def log(self,k,v,*args,**kwargs):\n",
        "        try:\n",
        "            v=v.detach().item()\n",
        "        except:\n",
        "            pass\n",
        "        super().log(k,v,*args,**kwargs)\n",
        "\n",
        "    def training_step_discriminator(self, batch, batch_idx):\n",
        "        imgs, _ = batch\n",
        "        batch_size = imgs.shape[0]\n",
        "\n",
        "        # note z.type_as(imgs) not only type_casts but also puts on the same device\n",
        "        z = torch.randn(batch_size, self.hparams.latent_dim).type_as(imgs)\n",
        "        generated_imgs = self(z)\n",
        "        generated_y_score = self.discriminator(generated_imgs)\n",
        "        generated_y = torch.zeros(imgs.size(0), 1).type_as(imgs)\n",
        "        generated_loss = self.adversarial_loss(generated_y_score, generated_y)\n",
        "\n",
        "        real_y_score = self.discriminator(imgs)\n",
        "        real_y = torch.ones(imgs.size(0), 1).type_as(imgs)\n",
        "        real_loss = self.adversarial_loss(real_y_score, real_y)\n",
        "\n",
        "        y_score = torch.cat([real_y_score, generated_y_score], 0)\n",
        "        y = torch.cat([real_y, generated_y], 0)\n",
        "        pred = (y_score > 0.5).type(torch.int).view(-1, 1)\n",
        "\n",
        "        accuracy = (pred == y).type(torch.float).mean()\n",
        "        loss = (real_loss + generated_loss) / 2.0\n",
        "\n",
        "        self.log('discriminator/d_loss', loss, prog_bar=True)\n",
        "        self.log('discriminator/d_accuracy', accuracy, prog_bar=True)\n",
        "\n",
        "        return {'loss': loss,\n",
        "                'y_score': y_score,\n",
        "                'y': y\n",
        "                }\n",
        "\n",
        "    def training_epoch_end(self, outputs):\n",
        "        discriminator_score = []\n",
        "        discriminator_y = []\n",
        "\n",
        "        for output in outputs[1]:\n",
        "            discriminator_y.append(output['y'])\n",
        "            discriminator_score.append(output['y_score'])\n",
        "        discriminator_score = torch.cat(discriminator_score)\n",
        "        discriminator_y = torch.cat(discriminator_y)\n",
        "        discriminator_score = torch.cat([1 - discriminator_score, discriminator_score], 1)\n",
        "\n",
        "        y_true = discriminator_y.cpu().numpy().flatten()\n",
        "        y_score = discriminator_score.detach().cpu().numpy()\n",
        "\n",
        "        #self.log(\"discriminator/discriminator_pr\", wandb.plot.pr_curve(y_true, y_score, labels=['Fake', 'Real']))\n",
        "        #self.log(\"discriminator/discriminator_roc\", wandb.plot.roc_curve(y_true, y_score, labels=['Fake', 'Real']))\n",
        "        self.log('discriminator/discriminator_confusion_matrix', wandb.plot.confusion_matrix(y_score,\n",
        "                                                                                             y_true,\n",
        "                                                                                             class_names=['Fake',\n",
        "                                                                                                          'Real']))\n",
        "\n",
        "        p, r, t = precision_recall_curve(1-y_true, y_score[:, 0])\n",
        "        plt.plot(r,p,label='Fake')\n",
        "        p, r, t = precision_recall_curve(y_true, y_score[:, 1])\n",
        "        plt.plot(r,p, label='Real')\n",
        "        plt.xlim(0,1)\n",
        "        plt.ylim(0,1)\n",
        "        plt.xlabel('Recall')\n",
        "        plt.ylabel('Precision')\n",
        "        plt.grid(True)\n",
        "        plt.legend()\n",
        "        self.log('discriminator/pr_curve',wandb.Image(plt,caption='Epoch: {}'.format(self.current_epoch)))\n",
        "        plt.close()\n",
        "\n",
        "\n",
        "    def configure_optimizers(self):\n",
        "        lr = self.hparams.lr\n",
        "        b1 = self.hparams.b1\n",
        "        b2 = self.hparams.b2\n",
        "\n",
        "        opt_g = torch.optim.Adam(self.generator.parameters(), lr=lr, betas=(b1, b2))\n",
        "        opt_d = torch.optim.Adam(self.discriminator.parameters(), lr=lr, betas=(b1, b2))\n",
        "        return [opt_g, opt_d], []\n"
      ],
      "execution_count": 6,
      "outputs": []
    },
    {
      "cell_type": "code",
      "metadata": {
        "id": "5yeJl_yn40ZS"
      },
      "source": [
        "Generator=GeneratorDCGAN\n",
        "Discriminator=DiscriminatorDCGAN\n",
        "DataModule=CIFAR10DataModule"
      ],
      "execution_count": 7,
      "outputs": []
    },
    {
      "cell_type": "code",
      "metadata": {
        "colab": {
          "base_uri": "https://localhost:8080/"
        },
        "id": "izOiZJCP42u9",
        "outputId": "ae93bb6c-6aa3-49da-9bfe-7492be677d27"
      },
      "source": [
        "torch.cuda.is_available()"
      ],
      "execution_count": 8,
      "outputs": [
        {
          "output_type": "execute_result",
          "data": {
            "text/plain": [
              "True"
            ]
          },
          "metadata": {
            "tags": []
          },
          "execution_count": 8
        }
      ]
    },
    {
      "cell_type": "code",
      "metadata": {
        "id": "OYF32fLi46uM"
      },
      "source": [
        "dm = DataModule('.')\n",
        "latent_dim=100\n",
        "img_shape=dm.size()\n",
        "\n",
        "generator=Generator(latent_dim=latent_dim, img_shape=img_shape)\n",
        "discriminator=Discriminator(img_shape=img_shape)\n",
        "\n",
        "model = GAN(*dm.size(),latent_dim=latent_dim, generator=generator, discriminator=discriminator)"
      ],
      "execution_count": 9,
      "outputs": []
    },
    {
      "cell_type": "code",
      "metadata": {
        "id": "_qc_r7ZK5A9U",
        "colab": {
          "base_uri": "https://localhost:8080/",
          "height": 156
        },
        "outputId": "ab285981-419f-4570-8b49-0ac46fd19d89"
      },
      "source": [
        "logger = WandbLogger(project='gan_memory_profiling',name='colab-gpu')\n",
        "\n",
        "dm.prepare_data()\n",
        "dm.setup()\n",
        "dataloader =dm.train_dataloader()\n",
        "real_batch = next(iter(dataloader))\n",
        "\n",
        "gpus=1\n",
        "device = 'cuda:0'\n",
        "\n",
        "\n",
        "real_images=np.transpose(vutils.make_grid(real_batch[0][:6], padding=2, normalize=True).detach().numpy(),(1,2,0))\n",
        "logger.experiment.log({'real_sample':[wandb.Image(real_images, caption='Real Images')]})"
      ],
      "execution_count": 27,
      "outputs": [
        {
          "output_type": "stream",
          "text": [
            "Files already downloaded and verified\n",
            "Files already downloaded and verified\n"
          ],
          "name": "stdout"
        },
        {
          "output_type": "display_data",
          "data": {
            "text/html": [
              "\n",
              "                Tracking run with wandb version 0.10.14<br/>\n",
              "                Syncing run <strong style=\"color:#cdcd00\">colab-gpu</strong> to <a href=\"https://wandb.ai\" target=\"_blank\">Weights & Biases</a> <a href=\"https://docs.wandb.com/integrations/jupyter.html\" target=\"_blank\">(Documentation)</a>.<br/>\n",
              "                Project page: <a href=\"https://wandb.ai/borundev/gan_memory_profiling\" target=\"_blank\">https://wandb.ai/borundev/gan_memory_profiling</a><br/>\n",
              "                Run page: <a href=\"https://wandb.ai/borundev/gan_memory_profiling/runs/uiytqnu3\" target=\"_blank\">https://wandb.ai/borundev/gan_memory_profiling/runs/uiytqnu3</a><br/>\n",
              "                Run data is saved locally in <code>/content/wandb/run-20210117_162856-uiytqnu3</code><br/><br/>\n",
              "            "
            ],
            "text/plain": [
              "<IPython.core.display.HTML object>"
            ]
          },
          "metadata": {
            "tags": []
          }
        }
      ]
    },
    {
      "cell_type": "code",
      "metadata": {
        "id": "EYVKgl2293nC",
        "colab": {
          "base_uri": "https://localhost:8080/"
        },
        "outputId": "d94f8a90-8dd4-4d40-9395-169a3efb38a6"
      },
      "source": [
        "trainer = pl.Trainer(gpus=gpus,\n",
        "                     max_epochs=3,\n",
        "                     logger=logger,\n",
        "                     )"
      ],
      "execution_count": 28,
      "outputs": [
        {
          "output_type": "stream",
          "text": [
            "/usr/local/lib/python3.6/dist-packages/pytorch_lightning/utilities/distributed.py:49: UserWarning: You have set progress_bar_refresh_rate < 20 on Google Colab. This may crash. Consider using progress_bar_refresh_rate >= 20 in Trainer.\n",
            "  warnings.warn(*args, **kwargs)\n",
            "GPU available: True, used: True\n",
            "TPU available: None, using: 0 TPU cores\n",
            "LOCAL_RANK: 0 - CUDA_VISIBLE_DEVICES: [0]\n"
          ],
          "name": "stderr"
        }
      ]
    },
    {
      "cell_type": "code",
      "metadata": {
        "colab": {
          "base_uri": "https://localhost:8080/",
          "height": 295,
          "referenced_widgets": [
            "7e45248ab25b4ee7b1a500abb45acb23",
            "e6842b2c30bc475ebf1825564d9a5175",
            "32aa722260c4469aade6862d9242539c",
            "8f92bf8b1fea4c0381c4332b37219690",
            "a5b7455d060e4fbda04c08597d04befc",
            "a7827ac72a28437d86eaaec295deb43d",
            "761d86ea4e5b42bcbafdcb0313ea0ee2",
            "cdcd15edc437428480c0df2d71c0d27f"
          ]
        },
        "id": "0veooVk1GgQ-",
        "outputId": "21c40045-3e59-4bfa-b046-e52712fa4391"
      },
      "source": [
        "trainer.fit(model, dm)"
      ],
      "execution_count": 29,
      "outputs": [
        {
          "output_type": "stream",
          "text": [
            "/usr/local/lib/python3.6/dist-packages/pytorch_lightning/utilities/distributed.py:49: UserWarning: you passed in a val_dataloader but have no validation_step. Skipping validation loop\n",
            "  warnings.warn(*args, **kwargs)\n",
            "\n",
            "  | Name          | Type               | Params\n",
            "-----------------------------------------------------\n",
            "0 | generator     | GeneratorDCGAN     | 3.4 M \n",
            "1 | discriminator | DiscriminatorDCGAN | 2.6 M \n",
            "-----------------------------------------------------\n",
            "2.6 M     Trainable params\n",
            "3.4 M     Non-trainable params\n",
            "6.1 M     Total params\n"
          ],
          "name": "stderr"
        },
        {
          "output_type": "display_data",
          "data": {
            "application/vnd.jupyter.widget-view+json": {
              "model_id": "7e45248ab25b4ee7b1a500abb45acb23",
              "version_minor": 0,
              "version_major": 2
            },
            "text/plain": [
              "HBox(children=(FloatProgress(value=1.0, bar_style='info', description='Training', layout=Layout(flex='2'), max…"
            ]
          },
          "metadata": {
            "tags": []
          }
        },
        {
          "output_type": "stream",
          "text": [
            "\n"
          ],
          "name": "stdout"
        },
        {
          "output_type": "execute_result",
          "data": {
            "text/plain": [
              "1"
            ]
          },
          "metadata": {
            "tags": []
          },
          "execution_count": 29
        }
      ]
    },
    {
      "cell_type": "code",
      "metadata": {
        "colab": {
          "base_uri": "https://localhost:8080/",
          "height": 678,
          "referenced_widgets": [
            "c4d03cc21b0a42b89ac2faf965251b77",
            "2ce1e58b14904f7d821f37168f691749",
            "d812cc3b785e4c32939559bf1bad3ac0",
            "df1ddd00f03643ca960e616f77814902",
            "33c0c6208cdc460b9dde06a50428e48b",
            "c6d83388209a43f1b818ec07c13bbb97",
            "8666c4978ef84f97970fb3da0dd8f694",
            "b746a4a0fd7d488fb0148f54db7ce0f8"
          ]
        },
        "id": "Netsd3ZpJ2DG",
        "outputId": "b61b66d0-c82f-4138-d81c-f223b92a17c7"
      },
      "source": [
        "wandb.finish()"
      ],
      "execution_count": 30,
      "outputs": [
        {
          "output_type": "display_data",
          "data": {
            "text/html": [
              "<br/>Waiting for W&B process to finish, PID 2070<br/>Program ended successfully."
            ],
            "text/plain": [
              "<IPython.core.display.HTML object>"
            ]
          },
          "metadata": {
            "tags": []
          }
        },
        {
          "output_type": "display_data",
          "data": {
            "application/vnd.jupyter.widget-view+json": {
              "model_id": "c4d03cc21b0a42b89ac2faf965251b77",
              "version_minor": 0,
              "version_major": 2
            },
            "text/plain": [
              "VBox(children=(Label(value=' 1.20MB of 1.20MB uploaded (0.00MB deduped)\\r'), FloatProgress(value=1.0, max=1.0)…"
            ]
          },
          "metadata": {
            "tags": []
          }
        },
        {
          "output_type": "display_data",
          "data": {
            "text/html": [
              "Find user logs for this run at: <code>/content/wandb/run-20210117_162856-uiytqnu3/logs/debug.log</code>"
            ],
            "text/plain": [
              "<IPython.core.display.HTML object>"
            ]
          },
          "metadata": {
            "tags": []
          }
        },
        {
          "output_type": "display_data",
          "data": {
            "text/html": [
              "Find internal logs for this run at: <code>/content/wandb/run-20210117_162856-uiytqnu3/logs/debug-internal.log</code>"
            ],
            "text/plain": [
              "<IPython.core.display.HTML object>"
            ]
          },
          "metadata": {
            "tags": []
          }
        },
        {
          "output_type": "display_data",
          "data": {
            "text/html": [
              "<h3>Run summary:</h3><br/><style>\n",
              "    table.wandb td:nth-child(1) { padding: 0 10px; text-align: right }\n",
              "    </style><table class=\"wandb\">\n",
              "<tr><td>_step</td><td>4217</td></tr><tr><td>_runtime</td><td>304</td></tr><tr><td>_timestamp</td><td>1610901240</td></tr><tr><td>memory</td><td>4.86593</td></tr><tr><td>generator/g_loss</td><td>3.23946</td></tr><tr><td>generator/g_fooling_fraction</td><td>0.0</td></tr><tr><td>discriminator/d_loss</td><td>0.11444</td></tr><tr><td>discriminator/d_accuracy</td><td>0.98438</td></tr><tr><td>epoch</td><td>2</td></tr></table>"
            ],
            "text/plain": [
              "<IPython.core.display.HTML object>"
            ]
          },
          "metadata": {
            "tags": []
          }
        },
        {
          "output_type": "display_data",
          "data": {
            "text/html": [
              "<h3>Run history:</h3><br/><style>\n",
              "    table.wandb td:nth-child(1) { padding: 0 10px; text-align: right }\n",
              "    </style><table class=\"wandb\">\n",
              "<tr><td>_step</td><td>▁▁▁▁▂▂▂▂▂▃▃▃▃▃▃▄▄▄▄▄▅▅▅▅▅▅▆▆▆▆▆▆▇▇▇▇▇███</td></tr><tr><td>_runtime</td><td>▁▁▁▂▂▂▂▂▂▃▃▃▃▃▃▄▄▄▄▄▄▅▅▅▅▅▅▆▆▆▆▆▆▇▇▇▇▇▇█</td></tr><tr><td>_timestamp</td><td>▁▁▁▂▂▂▂▂▂▃▃▃▃▃▃▄▄▄▄▄▄▅▅▅▅▅▅▆▆▆▆▆▆▇▇▇▇▇▇█</td></tr><tr><td>memory</td><td>▁▁▁▁▁▁▁▁▁▁▁▁▁▂▅▅▅▅▅▅▅▅▅▅▅▆▆▆▆▆▆▆▆▆▆▆▆▆▇█</td></tr><tr><td>generator/g_loss</td><td>▄▄▂▅▃▅▅▄▅▃▄▂▅▇▅▄▄▃▄█▆▄▃▃▄▃▃▆▆▆▁▄▅▆▄▄▅▁▅▃</td></tr><tr><td>generator/g_fooling_fraction</td><td>▁▁▄▁▁▁▁▃▁▁▁▁▁▁▁▁▁▁▁▁▁▁▁▁▁▁▁▁▁▁▅▁▁▁▁▁▁█▁▁</td></tr><tr><td>discriminator/d_loss</td><td>▂▂▆▃▂▂▂▄▃▂▂▁█▆▁▂▂▃▁▁▂▁▂▁▂▁▁█▁▅▄▁▂▅▁▂▂▆▂▂</td></tr><tr><td>discriminator/d_accuracy</td><td>▇█▃▇███▆▆▇▇█▁▃█▇█▆██▇██████▂█▄▅██▂█▇█▂▇█</td></tr><tr><td>epoch</td><td>▁▁▁▁▁▁▁▁▁▁▁▁▁▁▅▅▅▅▅▅▅▅▅▅▅▅▅█████████████</td></tr></table><br/>"
            ],
            "text/plain": [
              "<IPython.core.display.HTML object>"
            ]
          },
          "metadata": {
            "tags": []
          }
        },
        {
          "output_type": "display_data",
          "data": {
            "text/html": [
              "Synced 5 W&B file(s), 94 media file(s), 0 artifact file(s) and 0 other file(s)"
            ],
            "text/plain": [
              "<IPython.core.display.HTML object>"
            ]
          },
          "metadata": {
            "tags": []
          }
        },
        {
          "output_type": "display_data",
          "data": {
            "text/html": [
              "\n",
              "                    <br/>Synced <strong style=\"color:#cdcd00\">colab-gpu</strong>: <a href=\"https://wandb.ai/borundev/gan_memory_profiling/runs/uiytqnu3\" target=\"_blank\">https://wandb.ai/borundev/gan_memory_profiling/runs/uiytqnu3</a><br/>\n",
              "                "
            ],
            "text/plain": [
              "<IPython.core.display.HTML object>"
            ]
          },
          "metadata": {
            "tags": []
          }
        }
      ]
    },
    {
      "cell_type": "code",
      "metadata": {
        "colab": {
          "base_uri": "https://localhost:8080/",
          "height": 156
        },
        "id": "wNKZV_nHKP1w",
        "outputId": "e820ea73-7d61-4ffa-a778-986aec421703"
      },
      "source": [
        "logger = WandbLogger(project='gan_memory_profiling',name='colab-cpu')\n",
        "\n",
        "dm.prepare_data()\n",
        "dm.setup()\n",
        "dataloader =dm.train_dataloader()\n",
        "real_batch = next(iter(dataloader))\n",
        "\n",
        "gpus=0\n",
        "device = 'cpu'\n",
        "\n",
        "\n",
        "real_images=np.transpose(vutils.make_grid(real_batch[0][:6], padding=2, normalize=True).detach().numpy(),(1,2,0))\n",
        "logger.experiment.log({'real_sample':[wandb.Image(real_images, caption='Real Images')]})"
      ],
      "execution_count": 31,
      "outputs": [
        {
          "output_type": "stream",
          "text": [
            "Files already downloaded and verified\n",
            "Files already downloaded and verified\n"
          ],
          "name": "stdout"
        },
        {
          "output_type": "display_data",
          "data": {
            "text/html": [
              "\n",
              "                Tracking run with wandb version 0.10.14<br/>\n",
              "                Syncing run <strong style=\"color:#cdcd00\">colab-cpu</strong> to <a href=\"https://wandb.ai\" target=\"_blank\">Weights & Biases</a> <a href=\"https://docs.wandb.com/integrations/jupyter.html\" target=\"_blank\">(Documentation)</a>.<br/>\n",
              "                Project page: <a href=\"https://wandb.ai/borundev/gan_memory_profiling\" target=\"_blank\">https://wandb.ai/borundev/gan_memory_profiling</a><br/>\n",
              "                Run page: <a href=\"https://wandb.ai/borundev/gan_memory_profiling/runs/1gr2thkl\" target=\"_blank\">https://wandb.ai/borundev/gan_memory_profiling/runs/1gr2thkl</a><br/>\n",
              "                Run data is saved locally in <code>/content/wandb/run-20210117_163410-1gr2thkl</code><br/><br/>\n",
              "            "
            ],
            "text/plain": [
              "<IPython.core.display.HTML object>"
            ]
          },
          "metadata": {
            "tags": []
          }
        }
      ]
    },
    {
      "cell_type": "code",
      "metadata": {
        "colab": {
          "base_uri": "https://localhost:8080/"
        },
        "id": "k2lIiHHuLjro",
        "outputId": "0b51d864-51bd-4707-c9fa-892db9dd46f7"
      },
      "source": [
        "trainer = pl.Trainer(gpus=gpus,\n",
        "                     max_epochs=3,\n",
        "                     logger=logger,\n",
        "                     )"
      ],
      "execution_count": 32,
      "outputs": [
        {
          "output_type": "stream",
          "text": [
            "/usr/local/lib/python3.6/dist-packages/pytorch_lightning/utilities/distributed.py:49: UserWarning: You have set progress_bar_refresh_rate < 20 on Google Colab. This may crash. Consider using progress_bar_refresh_rate >= 20 in Trainer.\n",
            "  warnings.warn(*args, **kwargs)\n",
            "GPU available: True, used: False\n",
            "TPU available: None, using: 0 TPU cores\n",
            "/usr/local/lib/python3.6/dist-packages/pytorch_lightning/utilities/distributed.py:49: UserWarning: GPU available but not used. Set the --gpus flag when calling the script.\n",
            "  warnings.warn(*args, **kwargs)\n"
          ],
          "name": "stderr"
        }
      ]
    },
    {
      "cell_type": "code",
      "metadata": {
        "id": "K6_pONlvLqYx"
      },
      "source": [
        "generator=Generator(latent_dim=latent_dim, img_shape=img_shape)\n",
        "discriminator=Discriminator(img_shape=img_shape)\n",
        "\n",
        "model = GAN(*dm.size(),latent_dim=latent_dim, generator=generator, discriminator=discriminator)"
      ],
      "execution_count": 33,
      "outputs": []
    },
    {
      "cell_type": "code",
      "metadata": {
        "colab": {
          "base_uri": "https://localhost:8080/",
          "height": 295,
          "referenced_widgets": [
            "287897c592c24b25bba03e9f1d8b1b2f",
            "6609fdfd52d34b60876d6cab9fb5b47a",
            "1bd5a9c8984e4a17980afaeb63541a4a",
            "6422e21b21154bf99837224cb9002fb1",
            "c864069e17c24d6396e1d3df4cec504f",
            "246f28040aae4ef5b86c8fe8f91aab57",
            "eca60e4ebea4425c922d29ead61124dc",
            "492c81483ddd467eb77b126da378bac2"
          ]
        },
        "id": "wKX_i11MLtko",
        "outputId": "db3bcb23-b529-4030-bcbc-1ab4f0c519be"
      },
      "source": [
        "trainer.fit(model, dm)"
      ],
      "execution_count": null,
      "outputs": [
        {
          "output_type": "stream",
          "text": [
            "/usr/local/lib/python3.6/dist-packages/pytorch_lightning/utilities/distributed.py:49: UserWarning: attribute 'generator' removed from hparams because it cannot be pickled\n",
            "  warnings.warn(*args, **kwargs)\n",
            "/usr/local/lib/python3.6/dist-packages/pytorch_lightning/utilities/distributed.py:49: UserWarning: you passed in a val_dataloader but have no validation_step. Skipping validation loop\n",
            "  warnings.warn(*args, **kwargs)\n",
            "\n",
            "  | Name          | Type               | Params\n",
            "-----------------------------------------------------\n",
            "0 | generator     | GeneratorDCGAN     | 3.4 M \n",
            "1 | discriminator | DiscriminatorDCGAN | 2.6 M \n",
            "-----------------------------------------------------\n",
            "6.1 M     Trainable params\n",
            "0         Non-trainable params\n",
            "6.1 M     Total params\n"
          ],
          "name": "stderr"
        },
        {
          "output_type": "display_data",
          "data": {
            "application/vnd.jupyter.widget-view+json": {
              "model_id": "287897c592c24b25bba03e9f1d8b1b2f",
              "version_major": 2,
              "version_minor": 0
            },
            "text/plain": [
              "HBox(children=(FloatProgress(value=1.0, bar_style='info', description='Training', layout=Layout(flex='2'), max…"
            ]
          },
          "metadata": {
            "tags": []
          }
        }
      ]
    },
    {
      "cell_type": "code",
      "metadata": {
        "id": "nNsD3NqoMADt"
      },
      "source": [
        "wandb.finish()"
      ],
      "execution_count": null,
      "outputs": []
    },
    {
      "cell_type": "code",
      "metadata": {
        "id": "47dwdAQIMoo0"
      },
      "source": [
        ""
      ],
      "execution_count": null,
      "outputs": []
    }
  ]
}