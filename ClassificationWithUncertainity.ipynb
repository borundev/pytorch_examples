{
  "nbformat": 4,
  "nbformat_minor": 0,
  "metadata": {
    "colab": {
      "name": "ClassificationWithUncertainity.ipynb",
      "provenance": [],
      "authorship_tag": "ABX9TyPbproiotafCdKfmp5Oo9my",
      "include_colab_link": true
    },
    "kernelspec": {
      "name": "python3",
      "display_name": "Python 3"
    },
    "accelerator": "GPU"
  },
  "cells": [
    {
      "cell_type": "markdown",
      "metadata": {
        "id": "view-in-github",
        "colab_type": "text"
      },
      "source": [
        "<a href=\"https://colab.research.google.com/github/borundev/pytorch_examples/blob/kaggle-dataset/ClassificationWithUncertainity.ipynb\" target=\"_parent\"><img src=\"https://colab.research.google.com/assets/colab-badge.svg\" alt=\"Open In Colab\"/></a>"
      ]
    },
    {
      "cell_type": "code",
      "metadata": {
        "id": "rYrKkY3hzK_B"
      },
      "source": [
        "!pip install --no-cache-dir -Uqq git+https://github.com/borundev/pytorch_examples.git@kaggle-dataset"
      ],
      "execution_count": null,
      "outputs": []
    },
    {
      "cell_type": "code",
      "metadata": {
        "id": "511srrg9qHXM"
      },
      "source": [
        "!pip install -Uqq  names"
      ],
      "execution_count": null,
      "outputs": []
    },
    {
      "cell_type": "code",
      "metadata": {
        "id": "8L8wFc45zWRa"
      },
      "source": [
        "import pytorch_lightning as pl\n",
        "from pytorch_lightning.loggers import WandbLogger\n",
        "import wandb\n",
        "import names"
      ],
      "execution_count": null,
      "outputs": []
    },
    {
      "cell_type": "code",
      "metadata": {
        "id": "MAZNUTM_zsOC"
      },
      "source": [
        "import pytorch_examples"
      ],
      "execution_count": null,
      "outputs": []
    },
    {
      "cell_type": "code",
      "metadata": {
        "id": "zOw1pTUGz3yR"
      },
      "source": [
        "from pytorch_examples.classification_with_uncertainity.models.resnet import CustomModel"
      ],
      "execution_count": null,
      "outputs": []
    },
    {
      "cell_type": "code",
      "metadata": {
        "id": "_dz7dm-N07Bk"
      },
      "source": [
        "from pytorch_lightning.loggers import WandbLogger\n"
      ],
      "execution_count": null,
      "outputs": []
    },
    {
      "cell_type": "code",
      "metadata": {
        "id": "v7fyXOMmqQ6a"
      },
      "source": [
        "from data.fudge_labels import modify_data_module\n",
        "from data.cats_and_dogs import CatsAndDogsDataModule\n",
        "from data.kaggle import TBDataModule"
      ],
      "execution_count": null,
      "outputs": []
    },
    {
      "cell_type": "code",
      "metadata": {
        "id": "moBBsomBBexu"
      },
      "source": [
        "CustomModel.make_validation_epoch_end(['Normal','TB'])"
      ],
      "execution_count": null,
      "outputs": []
    },
    {
      "cell_type": "code",
      "metadata": {
        "id": "UtQhuf0m1Ld4"
      },
      "source": [
        "import numpy as np\n",
        "def run(num_extras):\n",
        "  name='{}_{}'.format(num_extras,'_'.join(names.get_full_name().split()))\n",
        "  wandb_logger = WandbLogger(project='uncertain_classification_tb_dataset_3',name=name)\n",
        "  trainer = pl.Trainer(\n",
        "        gpus=1,\n",
        "        max_epochs=5,\n",
        "        logger=wandb_logger,\n",
        "        progress_bar_refresh_rate=50,\n",
        "        )\n",
        "  model = CustomModel()\n",
        "  dm = modify_data_module(TBDataModule(),num_extras=num_extras)\n",
        "  trainer.fit(model, dm)\n",
        "  wandb.finish()"
      ],
      "execution_count": null,
      "outputs": []
    },
    {
      "cell_type": "code",
      "metadata": {
        "id": "IESXJGrsJaUD"
      },
      "source": [
        "for num_extras in (0,1,2,3,4):\n",
        "  run(num_extras)"
      ],
      "execution_count": null,
      "outputs": []
    },
    {
      "cell_type": "code",
      "metadata": {
        "id": "nxT3qAl7IdOU"
      },
      "source": [
        ""
      ],
      "execution_count": null,
      "outputs": []
    }
  ]
}