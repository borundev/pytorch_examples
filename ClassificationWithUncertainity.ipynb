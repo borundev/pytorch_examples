{
  "nbformat": 4,
  "nbformat_minor": 0,
  "metadata": {
    "colab": {
      "name": "ClassificationWithUncertainity.ipynb",
      "provenance": [],
      "authorship_tag": "ABX9TyPNjYFr1SkWJMGL8Be60yJ0",
      "include_colab_link": true
    },
    "kernelspec": {
      "name": "python3",
      "display_name": "Python 3"
    },
    "accelerator": "GPU"
  },
  "cells": [
    {
      "cell_type": "markdown",
      "metadata": {
        "id": "view-in-github",
        "colab_type": "text"
      },
      "source": [
        "<a href=\"https://colab.research.google.com/github/borundev/pytorch_examples/blob/master/ClassificationWithUncertainity.ipynb\" target=\"_parent\"><img src=\"https://colab.research.google.com/assets/colab-badge.svg\" alt=\"Open In Colab\"/></a>"
      ]
    },
    {
      "cell_type": "code",
      "metadata": {
        "id": "rYrKkY3hzK_B"
      },
      "source": [
        "!pip install --no-cache-dir -Uqq git+https://github.com/borundev/pytorch_examples.git@classification_with_uncertainity"
      ],
      "execution_count": null,
      "outputs": []
    },
    {
      "cell_type": "code",
      "metadata": {
        "id": "8L8wFc45zWRa"
      },
      "source": [
        "import pytorch_lightning as pl\n",
        "from pytorch_lightning.loggers import WandbLogger\n",
        "import wandb\n",
        "import names"
      ],
      "execution_count": null,
      "outputs": []
    },
    {
      "cell_type": "code",
      "metadata": {
        "id": "MAZNUTM_zsOC"
      },
      "source": [
        "import pytorch_examples"
      ],
      "execution_count": null,
      "outputs": []
    },
    {
      "cell_type": "code",
      "metadata": {
        "id": "zOw1pTUGz3yR"
      },
      "source": [
        "from pytorch_examples.classification_with_uncertainity.data import CustomDataModule\n",
        "from pytorch_examples.classification_with_uncertainity.models.resnet import CustomModel"
      ],
      "execution_count": null,
      "outputs": []
    },
    {
      "cell_type": "code",
      "metadata": {
        "id": "_dz7dm-N07Bk"
      },
      "source": [
        "from pytorch_lightning.loggers import WandbLogger\n"
      ],
      "execution_count": null,
      "outputs": []
    },
    {
      "cell_type": "code",
      "metadata": {
        "id": "UtQhuf0m1Ld4"
      },
      "source": [
        "def run(num_extras):\n",
        "  name='{}_{}'.format(num_extras,'_'.join(names.get_full_name().split()))\n",
        "  wandb_logger = WandbLogger(project='uncertain_classification',name=name)\n",
        "  trainer = pl.Trainer(\n",
        "        gpus=1,\n",
        "        max_epochs=10,\n",
        "        logger=wandb_logger,\n",
        "        progress_bar_refresh_rate=50,\n",
        "        )\n",
        "  model = CustomModel()\n",
        "  cdm = CustomDataModule(num_extras=num_extras)\n",
        "  trainer.fit(model, cdm)\n",
        "  wandb.finish()"
      ],
      "execution_count": null,
      "outputs": []
    },
    {
      "cell_type": "code",
      "metadata": {
        "id": "IESXJGrsJaUD"
      },
      "source": [
        "for num_extras in (0,1,2,3,4):\n",
        "  run(num_extras)"
      ],
      "execution_count": null,
      "outputs": []
    },
    {
      "cell_type": "code",
      "metadata": {
        "id": "qTfhPw4f9VlQ"
      },
      "source": [
        "x,y_original,y,n=next(iter(cdm.train_dataloader()))"
      ],
      "execution_count": null,
      "outputs": []
    },
    {
      "cell_type": "code",
      "metadata": {
        "id": "wFndAxa1AVVR"
      },
      "source": [
        "import torchvision.transforms as transforms\n"
      ],
      "execution_count": null,
      "outputs": []
    },
    {
      "cell_type": "code",
      "metadata": {
        "id": "FHu5aeR1DMvD"
      },
      "source": [
        "n=transforms.Normalize((-1., -1.,- 1.), (2., 2., 2.))"
      ],
      "execution_count": null,
      "outputs": []
    },
    {
      "cell_type": "code",
      "metadata": {
        "id": "XUJ9K5cjDrYl"
      },
      "source": [
        "import matplotlib.pyplot as plt\n",
        "%matplotlib inline"
      ],
      "execution_count": null,
      "outputs": []
    },
    {
      "cell_type": "code",
      "metadata": {
        "id": "2X8VNf_XE8Gz"
      },
      "source": [
        "x=n(x).permute(0,2,3,1)"
      ],
      "execution_count": null,
      "outputs": []
    },
    {
      "cell_type": "code",
      "metadata": {
        "id": "72JsNBdiGCv-"
      },
      "source": [
        ""
      ],
      "execution_count": null,
      "outputs": []
    },
    {
      "cell_type": "code",
      "metadata": {
        "id": "sUGR2qqNFPCK"
      },
      "source": [
        "plt.imshow(x[2])"
      ],
      "execution_count": null,
      "outputs": []
    },
    {
      "cell_type": "code",
      "metadata": {
        "id": "7N2jFEePFe05"
      },
      "source": [
        "import numpy as np\n",
        "import torchvision.utils as vutils\n",
        "\n",
        "dataloader = cdm.train_dataloader()\n",
        "real_batch = next(iter(dataloader))\n",
        "real_images = np.transpose(vutils.make_grid(real_batch[0][:6], padding=2, normalize=True).numpy(), (1, 2, 0))\n"
      ],
      "execution_count": null,
      "outputs": []
    },
    {
      "cell_type": "code",
      "metadata": {
        "id": "uBoyWcFdGF_X"
      },
      "source": [
        "plt.imshow(real_images)"
      ],
      "execution_count": null,
      "outputs": []
    },
    {
      "cell_type": "code",
      "metadata": {
        "id": "V_ZEu-ASGSwI"
      },
      "source": [
        "real_batch[1:]"
      ],
      "execution_count": null,
      "outputs": []
    },
    {
      "cell_type": "code",
      "metadata": {
        "id": "lz-iWFBBGgPH"
      },
      "source": [
        "from torch.utils.data import random_split, DataLoader\n"
      ],
      "execution_count": null,
      "outputs": []
    },
    {
      "cell_type": "code",
      "metadata": {
        "id": "J9o5RfnJHJRx"
      },
      "source": [
        "DataLoader?"
      ],
      "execution_count": null,
      "outputs": []
    },
    {
      "cell_type": "code",
      "metadata": {
        "id": "KHgZS2czHK02"
      },
      "source": [
        "!pip install names"
      ],
      "execution_count": null,
      "outputs": []
    },
    {
      "cell_type": "code",
      "metadata": {
        "id": "qT1ASDhdISAG"
      },
      "source": [
        "import names"
      ],
      "execution_count": null,
      "outputs": []
    },
    {
      "cell_type": "code",
      "metadata": {
        "id": "Bqg8MpJzITcC"
      },
      "source": [
        "'_'.join(names.get_full_name().split())"
      ],
      "execution_count": null,
      "outputs": []
    },
    {
      "cell_type": "code",
      "metadata": {
        "id": "nxT3qAl7IdOU"
      },
      "source": [
        ""
      ],
      "execution_count": null,
      "outputs": []
    }
  ]
}